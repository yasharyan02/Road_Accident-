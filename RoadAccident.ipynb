{
 "cells": [
  {
   "cell_type": "code",
   "execution_count": 1,
   "id": "4778b080-2404-44bb-91fc-6e72b44da594",
   "metadata": {},
   "outputs": [],
   "source": [
    "import numpy as np\n",
    "import pandas as pd\n",
    "import matplotlib.pyplot as plt\n",
    "import seaborn as sns\n",
    "sns.set_theme(style=\"whitegrid\")\n",
    "import warnings\n",
    "warnings.filterwarnings('ignore')"
   ]
  },
  {
   "cell_type": "code",
   "execution_count": 2,
   "id": "f00a3842-05ce-478b-a0b8-bfa7a37ab3e0",
   "metadata": {},
   "outputs": [
    {
     "data": {
      "text/html": [
       "<div>\n",
       "<style scoped>\n",
       "    .dataframe tbody tr th:only-of-type {\n",
       "        vertical-align: middle;\n",
       "    }\n",
       "\n",
       "    .dataframe tbody tr th {\n",
       "        vertical-align: top;\n",
       "    }\n",
       "\n",
       "    .dataframe thead th {\n",
       "        text-align: right;\n",
       "    }\n",
       "</style>\n",
       "<table border=\"1\" class=\"dataframe\">\n",
       "  <thead>\n",
       "    <tr style=\"text-align: right;\">\n",
       "      <th></th>\n",
       "      <th>Accident_Index</th>\n",
       "      <th>Accident Date</th>\n",
       "      <th>Day_of_Week</th>\n",
       "      <th>Junction_Control</th>\n",
       "      <th>Junction_Detail</th>\n",
       "      <th>Accident_Severity</th>\n",
       "      <th>Latitude</th>\n",
       "      <th>Light_Conditions</th>\n",
       "      <th>Local_Authority_(District)</th>\n",
       "      <th>Carriageway_Hazards</th>\n",
       "      <th>...</th>\n",
       "      <th>Number_of_Casualties</th>\n",
       "      <th>Number_of_Vehicles</th>\n",
       "      <th>Police_Force</th>\n",
       "      <th>Road_Surface_Conditions</th>\n",
       "      <th>Road_Type</th>\n",
       "      <th>Speed_limit</th>\n",
       "      <th>Time</th>\n",
       "      <th>Urban_or_Rural_Area</th>\n",
       "      <th>Weather_Conditions</th>\n",
       "      <th>Vehicle_Type</th>\n",
       "    </tr>\n",
       "  </thead>\n",
       "  <tbody>\n",
       "    <tr>\n",
       "      <th>0</th>\n",
       "      <td>BS0000001</td>\n",
       "      <td>2021-01-01</td>\n",
       "      <td>Thursday</td>\n",
       "      <td>Give way or uncontrolled</td>\n",
       "      <td>T or staggered junction</td>\n",
       "      <td>Serious</td>\n",
       "      <td>51.512273</td>\n",
       "      <td>Daylight</td>\n",
       "      <td>Kensington and Chelsea</td>\n",
       "      <td>NaN</td>\n",
       "      <td>...</td>\n",
       "      <td>1</td>\n",
       "      <td>2</td>\n",
       "      <td>Metropolitan Police</td>\n",
       "      <td>Dry</td>\n",
       "      <td>One way street</td>\n",
       "      <td>30</td>\n",
       "      <td>15:11:00</td>\n",
       "      <td>Urban</td>\n",
       "      <td>Fine no high winds</td>\n",
       "      <td>Car</td>\n",
       "    </tr>\n",
       "    <tr>\n",
       "      <th>1</th>\n",
       "      <td>BS0000002</td>\n",
       "      <td>2021-01-05</td>\n",
       "      <td>Monday</td>\n",
       "      <td>Give way or uncontrolled</td>\n",
       "      <td>Crossroads</td>\n",
       "      <td>Serious</td>\n",
       "      <td>51.514399</td>\n",
       "      <td>Daylight</td>\n",
       "      <td>Kensington and Chelsea</td>\n",
       "      <td>NaN</td>\n",
       "      <td>...</td>\n",
       "      <td>11</td>\n",
       "      <td>2</td>\n",
       "      <td>Metropolitan Police</td>\n",
       "      <td>Wet or damp</td>\n",
       "      <td>Single carriageway</td>\n",
       "      <td>30</td>\n",
       "      <td>10:59:00</td>\n",
       "      <td>Urban</td>\n",
       "      <td>Fine no high winds</td>\n",
       "      <td>Taxi/Private hire car</td>\n",
       "    </tr>\n",
       "    <tr>\n",
       "      <th>2</th>\n",
       "      <td>BS0000003</td>\n",
       "      <td>2021-01-04</td>\n",
       "      <td>Sunday</td>\n",
       "      <td>Give way or uncontrolled</td>\n",
       "      <td>T or staggered junction</td>\n",
       "      <td>Slight</td>\n",
       "      <td>51.486668</td>\n",
       "      <td>Daylight</td>\n",
       "      <td>Kensington and Chelsea</td>\n",
       "      <td>NaN</td>\n",
       "      <td>...</td>\n",
       "      <td>1</td>\n",
       "      <td>2</td>\n",
       "      <td>Metropolitan Police</td>\n",
       "      <td>Dry</td>\n",
       "      <td>Single carriageway</td>\n",
       "      <td>30</td>\n",
       "      <td>14:19:00</td>\n",
       "      <td>Urban</td>\n",
       "      <td>Fine no high winds</td>\n",
       "      <td>Taxi/Private hire car</td>\n",
       "    </tr>\n",
       "    <tr>\n",
       "      <th>3</th>\n",
       "      <td>BS0000004</td>\n",
       "      <td>2021-01-05</td>\n",
       "      <td>Monday</td>\n",
       "      <td>Auto traffic signal</td>\n",
       "      <td>T or staggered junction</td>\n",
       "      <td>Serious</td>\n",
       "      <td>51.507804</td>\n",
       "      <td>Daylight</td>\n",
       "      <td>Kensington and Chelsea</td>\n",
       "      <td>NaN</td>\n",
       "      <td>...</td>\n",
       "      <td>1</td>\n",
       "      <td>2</td>\n",
       "      <td>Metropolitan Police</td>\n",
       "      <td>Frost or ice</td>\n",
       "      <td>Single carriageway</td>\n",
       "      <td>30</td>\n",
       "      <td>08:10:00</td>\n",
       "      <td>Urban</td>\n",
       "      <td>Other</td>\n",
       "      <td>Motorcycle over 500cc</td>\n",
       "    </tr>\n",
       "    <tr>\n",
       "      <th>4</th>\n",
       "      <td>BS0000005</td>\n",
       "      <td>2021-01-06</td>\n",
       "      <td>Tuesday</td>\n",
       "      <td>Auto traffic signal</td>\n",
       "      <td>Crossroads</td>\n",
       "      <td>Serious</td>\n",
       "      <td>51.482076</td>\n",
       "      <td>Darkness - lights lit</td>\n",
       "      <td>Kensington and Chelsea</td>\n",
       "      <td>NaN</td>\n",
       "      <td>...</td>\n",
       "      <td>1</td>\n",
       "      <td>2</td>\n",
       "      <td>Metropolitan Police</td>\n",
       "      <td>Dry</td>\n",
       "      <td>Single carriageway</td>\n",
       "      <td>30</td>\n",
       "      <td>17:25:00</td>\n",
       "      <td>Urban</td>\n",
       "      <td>Fine no high winds</td>\n",
       "      <td>Car</td>\n",
       "    </tr>\n",
       "  </tbody>\n",
       "</table>\n",
       "<p>5 rows × 21 columns</p>\n",
       "</div>"
      ],
      "text/plain": [
       "  Accident_Index Accident Date Day_of_Week          Junction_Control  \\\n",
       "0      BS0000001    2021-01-01    Thursday  Give way or uncontrolled   \n",
       "1      BS0000002    2021-01-05      Monday  Give way or uncontrolled   \n",
       "2      BS0000003    2021-01-04      Sunday  Give way or uncontrolled   \n",
       "3      BS0000004    2021-01-05      Monday       Auto traffic signal   \n",
       "4      BS0000005    2021-01-06     Tuesday       Auto traffic signal   \n",
       "\n",
       "           Junction_Detail Accident_Severity   Latitude  \\\n",
       "0  T or staggered junction           Serious  51.512273   \n",
       "1               Crossroads           Serious  51.514399   \n",
       "2  T or staggered junction            Slight  51.486668   \n",
       "3  T or staggered junction           Serious  51.507804   \n",
       "4               Crossroads           Serious  51.482076   \n",
       "\n",
       "        Light_Conditions Local_Authority_(District) Carriageway_Hazards  ...  \\\n",
       "0               Daylight     Kensington and Chelsea                 NaN  ...   \n",
       "1               Daylight     Kensington and Chelsea                 NaN  ...   \n",
       "2               Daylight     Kensington and Chelsea                 NaN  ...   \n",
       "3               Daylight     Kensington and Chelsea                 NaN  ...   \n",
       "4  Darkness - lights lit     Kensington and Chelsea                 NaN  ...   \n",
       "\n",
       "   Number_of_Casualties  Number_of_Vehicles         Police_Force  \\\n",
       "0                     1                   2  Metropolitan Police   \n",
       "1                    11                   2  Metropolitan Police   \n",
       "2                     1                   2  Metropolitan Police   \n",
       "3                     1                   2  Metropolitan Police   \n",
       "4                     1                   2  Metropolitan Police   \n",
       "\n",
       "  Road_Surface_Conditions           Road_Type Speed_limit      Time  \\\n",
       "0                     Dry      One way street          30  15:11:00   \n",
       "1             Wet or damp  Single carriageway          30  10:59:00   \n",
       "2                     Dry  Single carriageway          30  14:19:00   \n",
       "3            Frost or ice  Single carriageway          30  08:10:00   \n",
       "4                     Dry  Single carriageway          30  17:25:00   \n",
       "\n",
       "  Urban_or_Rural_Area  Weather_Conditions           Vehicle_Type  \n",
       "0               Urban  Fine no high winds                    Car  \n",
       "1               Urban  Fine no high winds  Taxi/Private hire car  \n",
       "2               Urban  Fine no high winds  Taxi/Private hire car  \n",
       "3               Urban               Other  Motorcycle over 500cc  \n",
       "4               Urban  Fine no high winds                    Car  \n",
       "\n",
       "[5 rows x 21 columns]"
      ]
     },
     "execution_count": 2,
     "metadata": {},
     "output_type": "execute_result"
    }
   ],
   "source": [
    "ra=pd.read_excel(r\"C:\\Users\\Maharshi Goswami\\OneDrive\\Documents\\Alliance Datascience project\\Road Accident Data.xlsx\")\n",
    "ra.head()"
   ]
  },
  {
   "cell_type": "code",
   "execution_count": 3,
   "id": "4d14e39c-c287-4fa1-a2b4-3984b72f4bf8",
   "metadata": {},
   "outputs": [
    {
     "data": {
      "text/plain": [
       "Accident_Index                     0\n",
       "Accident Date                      0\n",
       "Day_of_Week                        0\n",
       "Junction_Control                   0\n",
       "Junction_Detail                    0\n",
       "Accident_Severity                  0\n",
       "Latitude                           0\n",
       "Light_Conditions                   0\n",
       "Local_Authority_(District)         0\n",
       "Carriageway_Hazards           302549\n",
       "Longitude                          0\n",
       "Number_of_Casualties               0\n",
       "Number_of_Vehicles                 0\n",
       "Police_Force                       0\n",
       "Road_Surface_Conditions            0\n",
       "Road_Type                          0\n",
       "Speed_limit                        0\n",
       "Time                              17\n",
       "Urban_or_Rural_Area                0\n",
       "Weather_Conditions                 0\n",
       "Vehicle_Type                       0\n",
       "dtype: int64"
      ]
     },
     "execution_count": 3,
     "metadata": {},
     "output_type": "execute_result"
    }
   ],
   "source": [
    "ra.isnull().sum()"
   ]
  },
  {
   "cell_type": "code",
   "execution_count": 4,
   "id": "ef6d0152-722d-4f14-8478-75cb30d1355b",
   "metadata": {},
   "outputs": [
    {
     "data": {
      "text/plain": [
       "array([nan, 'Pedestrian in carriageway - not injured',\n",
       "       'Other object on road',\n",
       "       'Any animal in carriageway (except ridden horse)',\n",
       "       'Previous accident', 'Vehicle load on road'], dtype=object)"
      ]
     },
     "execution_count": 4,
     "metadata": {},
     "output_type": "execute_result"
    }
   ],
   "source": [
    "ra[\"Carriageway_Hazards\"].unique()[:10]"
   ]
  },
  {
   "cell_type": "markdown",
   "id": "55b4a2b0-5675-44a3-ac04-21072f2a6d44",
   "metadata": {},
   "source": [
    "### Carriageway_Hazards column has categorical column, i cannot apply IQR to fix outliers"
   ]
  },
  {
   "cell_type": "markdown",
   "id": "add4da67-d5d1-4cc1-8b70-ee83368df08b",
   "metadata": {},
   "source": [
    "#### we cannot use ML model on \"\" because missing % is too large, ML model will be weak or biased & it will mostly predict \"No Hazard\"\n",
    "\n",
    "#### we generally take ML model when missing value is <=30% "
   ]
  },
  {
   "cell_type": "code",
   "execution_count": 5,
   "id": "216a1964-0c3d-4f63-8fec-06336fcc72af",
   "metadata": {},
   "outputs": [],
   "source": [
    "# we will replace nan value with \"No Hazard\" or \"unknown\"\n",
    "ra[\"Carriageway_Hazards\"].fillna(\"No Hazard\", inplace = True)"
   ]
  },
  {
   "cell_type": "code",
   "execution_count": 6,
   "id": "40159363-b7b5-4f12-a866-785e872cff46",
   "metadata": {},
   "outputs": [
    {
     "data": {
      "text/plain": [
       "array(['No Hazard', 'Pedestrian in carriageway - not injured',\n",
       "       'Other object on road',\n",
       "       'Any animal in carriageway (except ridden horse)',\n",
       "       'Previous accident', 'Vehicle load on road'], dtype=object)"
      ]
     },
     "execution_count": 6,
     "metadata": {},
     "output_type": "execute_result"
    }
   ],
   "source": [
    "ra[\"Carriageway_Hazards\"].unique()[:10]"
   ]
  },
  {
   "cell_type": "code",
   "execution_count": 7,
   "id": "d8875adb-8e22-4768-8351-586db9d77d18",
   "metadata": {},
   "outputs": [
    {
     "data": {
      "text/plain": [
       "0    15:11:00\n",
       "1    10:59:00\n",
       "2    14:19:00\n",
       "3    08:10:00\n",
       "4    17:25:00\n",
       "5    11:48:00\n",
       "6    13:58:00\n",
       "7    13:18:00\n",
       "8    12:15:00\n",
       "9    09:52:00\n",
       "Name: Time, dtype: object"
      ]
     },
     "execution_count": 7,
     "metadata": {},
     "output_type": "execute_result"
    }
   ],
   "source": [
    "ra[\"Time\"].head(10)"
   ]
  },
  {
   "cell_type": "code",
   "execution_count": 8,
   "id": "f9f0830e-6ec8-4bec-9634-2f8437f4634a",
   "metadata": {},
   "outputs": [],
   "source": [
    "ra[\"Time\"]=pd.to_datetime(ra[\"Time\"], format=\"%H:%M:%S\", errors=\"coerce\")"
   ]
  },
  {
   "cell_type": "code",
   "execution_count": 9,
   "id": "edb83709-b914-4b32-ad8d-114d94ee6920",
   "metadata": {},
   "outputs": [
    {
     "data": {
      "text/html": [
       "<div>\n",
       "<style scoped>\n",
       "    .dataframe tbody tr th:only-of-type {\n",
       "        vertical-align: middle;\n",
       "    }\n",
       "\n",
       "    .dataframe tbody tr th {\n",
       "        vertical-align: top;\n",
       "    }\n",
       "\n",
       "    .dataframe thead th {\n",
       "        text-align: right;\n",
       "    }\n",
       "</style>\n",
       "<table border=\"1\" class=\"dataframe\">\n",
       "  <thead>\n",
       "    <tr style=\"text-align: right;\">\n",
       "      <th></th>\n",
       "      <th>Accident_Index</th>\n",
       "      <th>Accident Date</th>\n",
       "      <th>Day_of_Week</th>\n",
       "      <th>Junction_Control</th>\n",
       "      <th>Junction_Detail</th>\n",
       "      <th>Accident_Severity</th>\n",
       "      <th>Latitude</th>\n",
       "      <th>Light_Conditions</th>\n",
       "      <th>Local_Authority_(District)</th>\n",
       "      <th>Carriageway_Hazards</th>\n",
       "      <th>...</th>\n",
       "      <th>Number_of_Casualties</th>\n",
       "      <th>Number_of_Vehicles</th>\n",
       "      <th>Police_Force</th>\n",
       "      <th>Road_Surface_Conditions</th>\n",
       "      <th>Road_Type</th>\n",
       "      <th>Speed_limit</th>\n",
       "      <th>Time</th>\n",
       "      <th>Urban_or_Rural_Area</th>\n",
       "      <th>Weather_Conditions</th>\n",
       "      <th>Vehicle_Type</th>\n",
       "    </tr>\n",
       "  </thead>\n",
       "  <tbody>\n",
       "    <tr>\n",
       "      <th>0</th>\n",
       "      <td>BS0000001</td>\n",
       "      <td>2021-01-01</td>\n",
       "      <td>Thursday</td>\n",
       "      <td>Give way or uncontrolled</td>\n",
       "      <td>T or staggered junction</td>\n",
       "      <td>Serious</td>\n",
       "      <td>51.512273</td>\n",
       "      <td>Daylight</td>\n",
       "      <td>Kensington and Chelsea</td>\n",
       "      <td>No Hazard</td>\n",
       "      <td>...</td>\n",
       "      <td>1</td>\n",
       "      <td>2</td>\n",
       "      <td>Metropolitan Police</td>\n",
       "      <td>Dry</td>\n",
       "      <td>One way street</td>\n",
       "      <td>30</td>\n",
       "      <td>1900-01-01 15:11:00</td>\n",
       "      <td>Urban</td>\n",
       "      <td>Fine no high winds</td>\n",
       "      <td>Car</td>\n",
       "    </tr>\n",
       "    <tr>\n",
       "      <th>1</th>\n",
       "      <td>BS0000002</td>\n",
       "      <td>2021-01-05</td>\n",
       "      <td>Monday</td>\n",
       "      <td>Give way or uncontrolled</td>\n",
       "      <td>Crossroads</td>\n",
       "      <td>Serious</td>\n",
       "      <td>51.514399</td>\n",
       "      <td>Daylight</td>\n",
       "      <td>Kensington and Chelsea</td>\n",
       "      <td>No Hazard</td>\n",
       "      <td>...</td>\n",
       "      <td>11</td>\n",
       "      <td>2</td>\n",
       "      <td>Metropolitan Police</td>\n",
       "      <td>Wet or damp</td>\n",
       "      <td>Single carriageway</td>\n",
       "      <td>30</td>\n",
       "      <td>1900-01-01 10:59:00</td>\n",
       "      <td>Urban</td>\n",
       "      <td>Fine no high winds</td>\n",
       "      <td>Taxi/Private hire car</td>\n",
       "    </tr>\n",
       "    <tr>\n",
       "      <th>2</th>\n",
       "      <td>BS0000003</td>\n",
       "      <td>2021-01-04</td>\n",
       "      <td>Sunday</td>\n",
       "      <td>Give way or uncontrolled</td>\n",
       "      <td>T or staggered junction</td>\n",
       "      <td>Slight</td>\n",
       "      <td>51.486668</td>\n",
       "      <td>Daylight</td>\n",
       "      <td>Kensington and Chelsea</td>\n",
       "      <td>No Hazard</td>\n",
       "      <td>...</td>\n",
       "      <td>1</td>\n",
       "      <td>2</td>\n",
       "      <td>Metropolitan Police</td>\n",
       "      <td>Dry</td>\n",
       "      <td>Single carriageway</td>\n",
       "      <td>30</td>\n",
       "      <td>1900-01-01 14:19:00</td>\n",
       "      <td>Urban</td>\n",
       "      <td>Fine no high winds</td>\n",
       "      <td>Taxi/Private hire car</td>\n",
       "    </tr>\n",
       "    <tr>\n",
       "      <th>3</th>\n",
       "      <td>BS0000004</td>\n",
       "      <td>2021-01-05</td>\n",
       "      <td>Monday</td>\n",
       "      <td>Auto traffic signal</td>\n",
       "      <td>T or staggered junction</td>\n",
       "      <td>Serious</td>\n",
       "      <td>51.507804</td>\n",
       "      <td>Daylight</td>\n",
       "      <td>Kensington and Chelsea</td>\n",
       "      <td>No Hazard</td>\n",
       "      <td>...</td>\n",
       "      <td>1</td>\n",
       "      <td>2</td>\n",
       "      <td>Metropolitan Police</td>\n",
       "      <td>Frost or ice</td>\n",
       "      <td>Single carriageway</td>\n",
       "      <td>30</td>\n",
       "      <td>1900-01-01 08:10:00</td>\n",
       "      <td>Urban</td>\n",
       "      <td>Other</td>\n",
       "      <td>Motorcycle over 500cc</td>\n",
       "    </tr>\n",
       "    <tr>\n",
       "      <th>4</th>\n",
       "      <td>BS0000005</td>\n",
       "      <td>2021-01-06</td>\n",
       "      <td>Tuesday</td>\n",
       "      <td>Auto traffic signal</td>\n",
       "      <td>Crossroads</td>\n",
       "      <td>Serious</td>\n",
       "      <td>51.482076</td>\n",
       "      <td>Darkness - lights lit</td>\n",
       "      <td>Kensington and Chelsea</td>\n",
       "      <td>No Hazard</td>\n",
       "      <td>...</td>\n",
       "      <td>1</td>\n",
       "      <td>2</td>\n",
       "      <td>Metropolitan Police</td>\n",
       "      <td>Dry</td>\n",
       "      <td>Single carriageway</td>\n",
       "      <td>30</td>\n",
       "      <td>1900-01-01 17:25:00</td>\n",
       "      <td>Urban</td>\n",
       "      <td>Fine no high winds</td>\n",
       "      <td>Car</td>\n",
       "    </tr>\n",
       "  </tbody>\n",
       "</table>\n",
       "<p>5 rows × 21 columns</p>\n",
       "</div>"
      ],
      "text/plain": [
       "  Accident_Index Accident Date Day_of_Week          Junction_Control  \\\n",
       "0      BS0000001    2021-01-01    Thursday  Give way or uncontrolled   \n",
       "1      BS0000002    2021-01-05      Monday  Give way or uncontrolled   \n",
       "2      BS0000003    2021-01-04      Sunday  Give way or uncontrolled   \n",
       "3      BS0000004    2021-01-05      Monday       Auto traffic signal   \n",
       "4      BS0000005    2021-01-06     Tuesday       Auto traffic signal   \n",
       "\n",
       "           Junction_Detail Accident_Severity   Latitude  \\\n",
       "0  T or staggered junction           Serious  51.512273   \n",
       "1               Crossroads           Serious  51.514399   \n",
       "2  T or staggered junction            Slight  51.486668   \n",
       "3  T or staggered junction           Serious  51.507804   \n",
       "4               Crossroads           Serious  51.482076   \n",
       "\n",
       "        Light_Conditions Local_Authority_(District) Carriageway_Hazards  ...  \\\n",
       "0               Daylight     Kensington and Chelsea           No Hazard  ...   \n",
       "1               Daylight     Kensington and Chelsea           No Hazard  ...   \n",
       "2               Daylight     Kensington and Chelsea           No Hazard  ...   \n",
       "3               Daylight     Kensington and Chelsea           No Hazard  ...   \n",
       "4  Darkness - lights lit     Kensington and Chelsea           No Hazard  ...   \n",
       "\n",
       "   Number_of_Casualties  Number_of_Vehicles         Police_Force  \\\n",
       "0                     1                   2  Metropolitan Police   \n",
       "1                    11                   2  Metropolitan Police   \n",
       "2                     1                   2  Metropolitan Police   \n",
       "3                     1                   2  Metropolitan Police   \n",
       "4                     1                   2  Metropolitan Police   \n",
       "\n",
       "  Road_Surface_Conditions           Road_Type Speed_limit                Time  \\\n",
       "0                     Dry      One way street          30 1900-01-01 15:11:00   \n",
       "1             Wet or damp  Single carriageway          30 1900-01-01 10:59:00   \n",
       "2                     Dry  Single carriageway          30 1900-01-01 14:19:00   \n",
       "3            Frost or ice  Single carriageway          30 1900-01-01 08:10:00   \n",
       "4                     Dry  Single carriageway          30 1900-01-01 17:25:00   \n",
       "\n",
       "  Urban_or_Rural_Area  Weather_Conditions           Vehicle_Type  \n",
       "0               Urban  Fine no high winds                    Car  \n",
       "1               Urban  Fine no high winds  Taxi/Private hire car  \n",
       "2               Urban  Fine no high winds  Taxi/Private hire car  \n",
       "3               Urban               Other  Motorcycle over 500cc  \n",
       "4               Urban  Fine no high winds                    Car  \n",
       "\n",
       "[5 rows x 21 columns]"
      ]
     },
     "execution_count": 9,
     "metadata": {},
     "output_type": "execute_result"
    }
   ],
   "source": [
    "ra.head()"
   ]
  },
  {
   "cell_type": "markdown",
   "id": "34cfd912-b62a-4ced-bd52-54ed06e5e37e",
   "metadata": {},
   "source": [
    "### Extracting hours and minute from time column"
   ]
  },
  {
   "cell_type": "code",
   "execution_count": 10,
   "id": "90c52e11-b1b0-4057-8903-402e3576910a",
   "metadata": {},
   "outputs": [],
   "source": [
    "ra[\"Hours\"]=ra[\"Time\"].dt.hour"
   ]
  },
  {
   "cell_type": "code",
   "execution_count": 11,
   "id": "199130aa-259c-4888-b0e5-63380e1caea7",
   "metadata": {},
   "outputs": [],
   "source": [
    "ra[\"Minute\"]=ra[\"Time\"].dt.minute"
   ]
  },
  {
   "cell_type": "code",
   "execution_count": 12,
   "id": "a65b1579-c4e4-4d2a-9afb-209f07108f57",
   "metadata": {},
   "outputs": [
    {
     "data": {
      "text/plain": [
       "0    15.0\n",
       "1    10.0\n",
       "2    14.0\n",
       "3     8.0\n",
       "4    17.0\n",
       "5    11.0\n",
       "6    13.0\n",
       "7    13.0\n",
       "8    12.0\n",
       "9     9.0\n",
       "Name: Hours, dtype: float64"
      ]
     },
     "execution_count": 12,
     "metadata": {},
     "output_type": "execute_result"
    }
   ],
   "source": [
    "ra[\"Hours\"].head(10)"
   ]
  },
  {
   "cell_type": "code",
   "execution_count": 13,
   "id": "eff6c586-e05f-47b9-9ce2-8c2386c6d9b6",
   "metadata": {},
   "outputs": [],
   "source": [
    "ra=ra.drop(\"Time\",axis=1)"
   ]
  },
  {
   "cell_type": "code",
   "execution_count": 14,
   "id": "fd9f9280-f0a8-47de-8d22-badd484cc0e2",
   "metadata": {},
   "outputs": [],
   "source": [
    "ra.fillna(ra[[\"Hours\",\"Minute\"]].median(),inplace=True)"
   ]
  },
  {
   "cell_type": "code",
   "execution_count": 15,
   "id": "56f8ba82-8097-472b-acfc-33b2ef6a43dc",
   "metadata": {},
   "outputs": [
    {
     "data": {
      "text/plain": [
       "Accident_Index                0\n",
       "Accident Date                 0\n",
       "Day_of_Week                   0\n",
       "Junction_Control              0\n",
       "Junction_Detail               0\n",
       "Accident_Severity             0\n",
       "Latitude                      0\n",
       "Light_Conditions              0\n",
       "Local_Authority_(District)    0\n",
       "Carriageway_Hazards           0\n",
       "Longitude                     0\n",
       "Number_of_Casualties          0\n",
       "Number_of_Vehicles            0\n",
       "Police_Force                  0\n",
       "Road_Surface_Conditions       0\n",
       "Road_Type                     0\n",
       "Speed_limit                   0\n",
       "Urban_or_Rural_Area           0\n",
       "Weather_Conditions            0\n",
       "Vehicle_Type                  0\n",
       "Hours                         0\n",
       "Minute                        0\n",
       "dtype: int64"
      ]
     },
     "execution_count": 15,
     "metadata": {},
     "output_type": "execute_result"
    }
   ],
   "source": [
    "ra.isnull().sum()"
   ]
  },
  {
   "cell_type": "code",
   "execution_count": 16,
   "id": "c90066b0-c944-469c-9d2e-7192cc62d57e",
   "metadata": {},
   "outputs": [],
   "source": [
    "# Urban_or_Rural_Area : 'Rural' , 'Urban' (One hot encoding)\n",
    "# Accident_Severity : 'Serious', 'Slight', 'Fetal', 'Fatal' (One hot)"
   ]
  },
  {
   "cell_type": "code",
   "execution_count": null,
   "id": "7ac81517-9209-4ee0-9ca8-8ef2cfd05f0c",
   "metadata": {},
   "outputs": [],
   "source": []
  },
  {
   "cell_type": "code",
   "execution_count": 17,
   "id": "cf286e5c-83a1-4478-9d2c-e6bbf5e4f2ad",
   "metadata": {},
   "outputs": [],
   "source": [
    "# Day_of_week\n",
    "# Weather_condition\n",
    "# Road_Type\n",
    "# Road_Surface_Conditions\n",
    "# Carriageway_Hazards\n",
    "# Light_Conditions\n",
    "# junction_Detail\n"
   ]
  },
  {
   "cell_type": "code",
   "execution_count": null,
   "id": "f27d32d9-20f0-44f4-8ee9-bb18c441b405",
   "metadata": {},
   "outputs": [],
   "source": []
  },
  {
   "cell_type": "code",
   "execution_count": 18,
   "id": "12a583e0-07ba-4693-b2de-3c434aacb914",
   "metadata": {},
   "outputs": [
    {
     "data": {
      "text/plain": [
       "Road_Surface_Conditions\n",
       "Dry                     208967\n",
       "Wet or damp              81796\n",
       "Frost or ice             12078\n",
       "Snow                      4758\n",
       "Flood over 3cm. deep       374\n",
       "Name: count, dtype: int64"
      ]
     },
     "execution_count": 18,
     "metadata": {},
     "output_type": "execute_result"
    }
   ],
   "source": [
    "ra['Road_Surface_Conditions'].value_counts()"
   ]
  },
  {
   "cell_type": "code",
   "execution_count": 19,
   "id": "23f87bbc-7149-4988-99f4-94fb88a0868e",
   "metadata": {},
   "outputs": [
    {
     "data": {
      "text/plain": [
       "array([ 1, 11,  3,  2,  4,  5,  6, 10,  8,  7,  9, 13, 12, 14, 16, 18, 15,\n",
       "       19, 21, 17, 27, 48, 40, 24, 26, 22, 42, 43])"
      ]
     },
     "execution_count": 19,
     "metadata": {},
     "output_type": "execute_result"
    }
   ],
   "source": [
    "ra[\"Number_of_Casualties\"].unique()"
   ]
  },
  {
   "cell_type": "code",
   "execution_count": 20,
   "id": "2516e3d3-55b2-43cf-ba61-c978b608bc68",
   "metadata": {},
   "outputs": [],
   "source": [
    "ra=ra[ra[\"Accident_Severity\"]!=\"Fetal\"] # this wll remove all the rows which was \"Fetal\" in \"Accident_Severity\" column"
   ]
  },
  {
   "cell_type": "code",
   "execution_count": 21,
   "id": "b6ef629d-e2f2-41e1-8d2b-37f9271a09b7",
   "metadata": {},
   "outputs": [
    {
     "data": {
      "text/plain": [
       "0    2\n",
       "1    2\n",
       "2    2\n",
       "3    2\n",
       "4    2\n",
       "Name: Number_of_Vehicles, dtype: int64"
      ]
     },
     "execution_count": 21,
     "metadata": {},
     "output_type": "execute_result"
    }
   ],
   "source": [
    "ra[\"Number_of_Vehicles\"].head()"
   ]
  },
  {
   "cell_type": "markdown",
   "id": "8d8aa554-6f73-4542-811f-4fb43d6543d7",
   "metadata": {},
   "source": [
    "### Create the Mapping Dictionary for Vehicle"
   ]
  },
  {
   "cell_type": "code",
   "execution_count": 22,
   "id": "4fb5da29-ffde-452e-9b16-fb0de69ac5cd",
   "metadata": {},
   "outputs": [
    {
     "name": "stdout",
     "output_type": "stream",
     "text": [
      "Original categories: 15\n",
      "New grouped categories: 5\n",
      "\n",
      "New Group Value Counts:\n",
      "Vehicle_Group\n",
      "Car                  239758\n",
      "Motorcycle            25061\n",
      "Goods_Vehicle         24723\n",
      "Transport_Vehicle     15049\n",
      "Other_Rare             3333\n",
      "Name: count, dtype: int64\n"
     ]
    }
   ],
   "source": [
    "vehicle_group_map = {\n",
    "    # Group 1: Car\n",
    "    'Car': 'Car',\n",
    "    \n",
    "    # Group 2: Motorcycle\n",
    "    'Motorcycle over 500cc': 'Motorcycle',\n",
    "    'Motorcycle 125cc and under': 'Motorcycle',\n",
    "    'Motorcycle 50cc and under': 'Motorcycle',\n",
    "    'Motorcycle over 125cc and up to 500cc': 'Motorcycle',\n",
    "    \n",
    "    # Group 3: Goods_Vehicle\n",
    "    'Van / Goods 3.5 tonnes mgw or under': 'Goods_Vehicle',\n",
    "    'Goods 7.5 tonnes mgw and over': 'Goods_Vehicle',\n",
    "    'Goods over 3.5t. and under 7.5t': 'Goods_Vehicle',\n",
    "    \n",
    "    # Group 4: Transport_Vehicle\n",
    "    'Bus or coach (17 or more pass seats)': 'Transport_Vehicle',\n",
    "    'Taxi/Private hire car': 'Transport_Vehicle',\n",
    "    'Minibus (8 - 16 passenger seats)': 'Transport_Vehicle',\n",
    "    \n",
    "    # Group 5: Other_Rare\n",
    "    'Other vehicle': 'Other_Rare',\n",
    "    'Agricultural vehicle': 'Other_Rare',\n",
    "    'Pedal cycle': 'Other_Rare',\n",
    "    'Ridden horse': 'Other_Rare'\n",
    "}\n",
    "\n",
    "# Apply the Map to Create a New Column\n",
    "# Create a new column 'Vehicle_Group' by applying the map\n",
    "\n",
    "ra['Vehicle_Group'] = ra['Vehicle_Type'].map(vehicle_group_map)\n",
    "\n",
    "\n",
    "print(\"Original categories:\", ra['Vehicle_Type'].nunique())\n",
    "print(\"New grouped categories:\", ra['Vehicle_Group'].nunique())\n",
    "print(\"\\nNew Group Value Counts:\")\n",
    "print(ra['Vehicle_Group'].value_counts())"
   ]
  },
  {
   "cell_type": "markdown",
   "id": "4ce261b0-ca2b-4ba3-bde6-71dcbe192d86",
   "metadata": {},
   "source": [
    "### Create the Mapping Dictionary for \"Road_Surface_Conditions\""
   ]
  },
  {
   "cell_type": "code",
   "execution_count": 23,
   "id": "b449fcb3-cb71-442d-a4df-d344b13f480a",
   "metadata": {},
   "outputs": [
    {
     "name": "stdout",
     "output_type": "stream",
     "text": [
      "<class 'pandas.core.frame.DataFrame'>\n",
      "Index: 307924 entries, 0 to 307972\n",
      "Data columns (total 23 columns):\n",
      " #   Column                      Non-Null Count   Dtype         \n",
      "---  ------                      --------------   -----         \n",
      " 0   Accident_Index              307924 non-null  object        \n",
      " 1   Accident Date               307924 non-null  datetime64[ns]\n",
      " 2   Day_of_Week                 307924 non-null  object        \n",
      " 3   Junction_Control            307924 non-null  object        \n",
      " 4   Junction_Detail             307924 non-null  object        \n",
      " 5   Accident_Severity           307924 non-null  object        \n",
      " 6   Latitude                    307924 non-null  float64       \n",
      " 7   Light_Conditions            307924 non-null  object        \n",
      " 8   Local_Authority_(District)  307924 non-null  object        \n",
      " 9   Carriageway_Hazards         307924 non-null  object        \n",
      " 10  Longitude                   307924 non-null  float64       \n",
      " 11  Number_of_Casualties        307924 non-null  int64         \n",
      " 12  Number_of_Vehicles          307924 non-null  int64         \n",
      " 13  Police_Force                307924 non-null  object        \n",
      " 14  Road_Surface_Conditions     307924 non-null  object        \n",
      " 15  Road_Type                   307924 non-null  object        \n",
      " 16  Speed_limit                 307924 non-null  int64         \n",
      " 17  Urban_or_Rural_Area         307924 non-null  object        \n",
      " 18  Weather_Conditions          307924 non-null  object        \n",
      " 19  Vehicle_Type                307924 non-null  object        \n",
      " 20  Hours                       307924 non-null  float64       \n",
      " 21  Minute                      307924 non-null  float64       \n",
      " 22  Vehicle_Group               307924 non-null  object        \n",
      "dtypes: datetime64[ns](1), float64(4), int64(3), object(15)\n",
      "memory usage: 56.4+ MB\n"
     ]
    }
   ],
   "source": [
    "ra.info()"
   ]
  },
  {
   "cell_type": "code",
   "execution_count": 24,
   "id": "0cb8f144-6543-45b4-bc8a-9d5b62d98f05",
   "metadata": {},
   "outputs": [
    {
     "data": {
      "text/plain": [
       "Road_Surface_Conditions\n",
       "Dry                     208932\n",
       "Wet or damp              81782\n",
       "Frost or ice             12078\n",
       "Snow                      4758\n",
       "Flood over 3cm. deep       374\n",
       "Name: count, dtype: int64"
      ]
     },
     "execution_count": 24,
     "metadata": {},
     "output_type": "execute_result"
    }
   ],
   "source": [
    "ra['Road_Surface_Conditions'].value_counts()"
   ]
  },
  {
   "cell_type": "code",
   "execution_count": 25,
   "id": "8e91c1bd-1065-4b9e-ad97-922ea61c9c3d",
   "metadata": {},
   "outputs": [
    {
     "name": "stdout",
     "output_type": "stream",
     "text": [
      "Original categories: 5\n",
      "New grouped categories: 4\n",
      "\n",
      "New Group Value Counts:\n",
      "Road_Condition\n",
      "Dry            208932\n",
      "Wet or damp     81782\n",
      "Snow            16836\n",
      "Flood             374\n",
      "Name: count, dtype: int64\n"
     ]
    }
   ],
   "source": [
    "Road_condition_group={\n",
    " 'Dry':'Dry',\n",
    "    'Wet or damp':'Wet or damp',\n",
    "    'Frost or ice':'Snow',\n",
    "    'Snow':'Snow',\n",
    "    'Flood over 3cm. deep':'Flood'\n",
    "}\n",
    "\n",
    "ra['Road_Condition']=ra['Road_Surface_Conditions'].map(Road_condition_group)\n",
    "\n",
    "print(\"Original categories:\", ra['Road_Surface_Conditions'].nunique())\n",
    "print(\"New grouped categories:\", ra['Road_Condition'].nunique())\n",
    "print(\"\\nNew Group Value Counts:\")\n",
    "print(ra['Road_Condition'].value_counts())"
   ]
  },
  {
   "cell_type": "markdown",
   "id": "b4b249f1-c307-4f30-bf12-961d7b7d868a",
   "metadata": {},
   "source": [
    "### ----------------One Hot Encoding------------------"
   ]
  },
  {
   "cell_type": "markdown",
   "id": "87ee21c7-b0cf-4314-b540-9d3fab7df374",
   "metadata": {},
   "source": [
    "####  Applying One hot encoding on 'Junction Detail' Column"
   ]
  },
  {
   "cell_type": "code",
   "execution_count": 26,
   "id": "e4204f03-a41c-4005-b0d2-c784a60699b8",
   "metadata": {},
   "outputs": [],
   "source": [
    "jd = pd.get_dummies(ra['Junction_Detail'], prefix='JD', drop_first=True).astype(int)\n",
    "\n",
    "# 1. Clean the new column names (replacing spaces and special characters)\n",
    "jd.columns = jd.columns.str.replace(' ', '_')\n",
    "jd.columns = jd.columns.str.replace('(', '', regex=False)\n",
    "jd.columns = jd.columns.str.replace(')', '', regex=False)\n",
    "ra=ra.join(jd)\n"
   ]
  },
  {
   "cell_type": "markdown",
   "id": "fde781d1-146b-4e5b-8a76-2a36e0c1edfd",
   "metadata": {},
   "source": [
    "#### Applying One hot encoding on 'Light Condition' Column"
   ]
  },
  {
   "cell_type": "code",
   "execution_count": 27,
   "id": "ed7073c1-c962-4d0a-a56c-94589b676d8d",
   "metadata": {},
   "outputs": [
    {
     "name": "stdout",
     "output_type": "stream",
     "text": [
      "<class 'pandas.core.frame.DataFrame'>\n",
      "Index: 307924 entries, 0 to 307972\n",
      "Data columns (total 36 columns):\n",
      " #   Column                                  Non-Null Count   Dtype         \n",
      "---  ------                                  --------------   -----         \n",
      " 0   Accident_Index                          307924 non-null  object        \n",
      " 1   Accident Date                           307924 non-null  datetime64[ns]\n",
      " 2   Day_of_Week                             307924 non-null  object        \n",
      " 3   Junction_Control                        307924 non-null  object        \n",
      " 4   Junction_Detail                         307924 non-null  object        \n",
      " 5   Accident_Severity                       307924 non-null  object        \n",
      " 6   Latitude                                307924 non-null  float64       \n",
      " 7   Light_Conditions                        307924 non-null  object        \n",
      " 8   Local_Authority_(District)              307924 non-null  object        \n",
      " 9   Carriageway_Hazards                     307924 non-null  object        \n",
      " 10  Longitude                               307924 non-null  float64       \n",
      " 11  Number_of_Casualties                    307924 non-null  int64         \n",
      " 12  Number_of_Vehicles                      307924 non-null  int64         \n",
      " 13  Police_Force                            307924 non-null  object        \n",
      " 14  Road_Surface_Conditions                 307924 non-null  object        \n",
      " 15  Road_Type                               307924 non-null  object        \n",
      " 16  Speed_limit                             307924 non-null  int64         \n",
      " 17  Urban_or_Rural_Area                     307924 non-null  object        \n",
      " 18  Weather_Conditions                      307924 non-null  object        \n",
      " 19  Vehicle_Type                            307924 non-null  object        \n",
      " 20  Hours                                   307924 non-null  float64       \n",
      " 21  Minute                                  307924 non-null  float64       \n",
      " 22  Vehicle_Group                           307924 non-null  object        \n",
      " 23  Road_Condition                          307924 non-null  object        \n",
      " 24  JD_Mini-roundabout                      307924 non-null  int64         \n",
      " 25  JD_More_than_4_arms_not_roundabout      307924 non-null  int64         \n",
      " 26  JD_Not_at_junction_or_within_20_metres  307924 non-null  int64         \n",
      " 27  JD_Other_junction                       307924 non-null  int64         \n",
      " 28  JD_Private_drive_or_entrance            307924 non-null  int64         \n",
      " 29  JD_Roundabout                           307924 non-null  int64         \n",
      " 30  JD_Slip_road                            307924 non-null  int64         \n",
      " 31  JD_T_or_staggered_junction              307924 non-null  int64         \n",
      " 32  LC_Darkness_lights_lit                  307924 non-null  int64         \n",
      " 33  LC_Darkness_lights_unlit                307924 non-null  int64         \n",
      " 34  LC_Darkness_no_lighting                 307924 non-null  int64         \n",
      " 35  LC_Daylight                             307924 non-null  int64         \n",
      "dtypes: datetime64[ns](1), float64(4), int64(15), object(16)\n",
      "memory usage: 86.9+ MB\n",
      "None\n"
     ]
    }
   ],
   "source": [
    "lc = pd.get_dummies(ra['Light_Conditions'], prefix='LC', drop_first=True).astype(int)\n",
    "\n",
    "# 2. Clean the new column names\n",
    "#    We will replace spaces and the '-' character with an underscore '_'\n",
    "lc.columns = lc.columns.str.replace(' - ', '_', regex=False)\n",
    "lc.columns = lc.columns.str.replace(' ', '_', regex=False)\n",
    "\n",
    "# 3. Merge new column\n",
    "ra=ra.join(lc)\n",
    "# 4. View the new columns\n",
    "print(ra.info())"
   ]
  },
  {
   "cell_type": "markdown",
   "id": "7c2bbe55-0fec-46b2-a2ed-b6561d26f10f",
   "metadata": {},
   "source": [
    "#### Applying One hot encoding on 'Road_Type' column"
   ]
  },
  {
   "cell_type": "code",
   "execution_count": 28,
   "id": "fef53eef-05c0-4772-913a-b3371946cad4",
   "metadata": {},
   "outputs": [],
   "source": [
    "# 1. One-hot encode the column. 'RT' is a prefix for 'Road_Type'.\n",
    "rt = pd.get_dummies(ra['Road_Type'], prefix='RT', drop_first=True).astype(int)\n",
    "\n",
    "# 2. Clean the new column names (replace spaces with underscores)\n",
    "rt.columns = rt.columns.str.replace(' ', '_', regex=False)\n",
    "\n",
    "# 3. Merging\n",
    "ra=ra.join(rt)\n"
   ]
  },
  {
   "cell_type": "markdown",
   "id": "9bb007ab-f33f-4d29-9721-81b16fdf5d80",
   "metadata": {},
   "source": [
    "#### Encoding 'Day_of_weeks' column"
   ]
  },
  {
   "cell_type": "code",
   "execution_count": 29,
   "id": "b3b976ad-d82b-4c7b-b57a-2975c9767e80",
   "metadata": {},
   "outputs": [],
   "source": [
    "dw=pd.get_dummies(ra[\"Day_of_Week\"],prefix=\"DoW\",drop_first=True).astype(int)\n",
    "\n",
    "# 1. Clean the new column names (replace spaces with underscores)\n",
    "dw.columns = dw.columns.str.replace(' ', '_', regex=False)\n",
    "\n",
    "# 2. Merging\n",
    "ra=ra.join(dw)"
   ]
  },
  {
   "cell_type": "markdown",
   "id": "31a1f695-db3b-4c0d-8933-d70a147692d2",
   "metadata": {},
   "source": [
    "#### Seperating wind details from 'weather_Conditions' column"
   ]
  },
  {
   "cell_type": "code",
   "execution_count": 30,
   "id": "0d493749-0638-458c-8e37-2ba8d03bfb82",
   "metadata": {},
   "outputs": [],
   "source": [
    "# Creating a new column: 1 if 'high winds' is in the string, 0 otherwise\n",
    "ra['High_Wind'] = ra['Weather_Conditions'].str.contains('high winds', case=False).astype(int)\n",
    "\n",
    "# Remove the wind-related text\n",
    "ra['Condition'] = ra['Weather_Conditions'].str.replace(' \\+ high winds', '', regex=True)\n",
    "ra['Condition'] = ra['Condition'].str.replace(' no high winds', '', regex=True) \n",
    "# Now 'Condition' will just have ['Fine', 'Other', 'Raining', 'Snowing', 'Fog or mist']"
   ]
  },
  {
   "cell_type": "code",
   "execution_count": 31,
   "id": "5d7ec766-4e38-4a1a-8061-f614cbb40aaf",
   "metadata": {},
   "outputs": [],
   "source": [
    "# One-hot encode the new 'Condition' column\n",
    "c = pd.get_dummies(ra['Condition'], prefix='Weather',drop_first=True).astype(int)\n",
    "\n",
    "# merging columns\n",
    "ra=ra.join(c)"
   ]
  },
  {
   "cell_type": "code",
   "execution_count": 32,
   "id": "aa87dabb-3026-4cf5-8a04-b199ee10c413",
   "metadata": {},
   "outputs": [
    {
     "name": "stdout",
     "output_type": "stream",
     "text": [
      "<class 'pandas.core.frame.DataFrame'>\n",
      "Index: 307924 entries, 0 to 307972\n",
      "Data columns (total 52 columns):\n",
      " #   Column                                  Non-Null Count   Dtype         \n",
      "---  ------                                  --------------   -----         \n",
      " 0   Accident_Index                          307924 non-null  object        \n",
      " 1   Accident Date                           307924 non-null  datetime64[ns]\n",
      " 2   Day_of_Week                             307924 non-null  object        \n",
      " 3   Junction_Control                        307924 non-null  object        \n",
      " 4   Junction_Detail                         307924 non-null  object        \n",
      " 5   Accident_Severity                       307924 non-null  object        \n",
      " 6   Latitude                                307924 non-null  float64       \n",
      " 7   Light_Conditions                        307924 non-null  object        \n",
      " 8   Local_Authority_(District)              307924 non-null  object        \n",
      " 9   Carriageway_Hazards                     307924 non-null  object        \n",
      " 10  Longitude                               307924 non-null  float64       \n",
      " 11  Number_of_Casualties                    307924 non-null  int64         \n",
      " 12  Number_of_Vehicles                      307924 non-null  int64         \n",
      " 13  Police_Force                            307924 non-null  object        \n",
      " 14  Road_Surface_Conditions                 307924 non-null  object        \n",
      " 15  Road_Type                               307924 non-null  object        \n",
      " 16  Speed_limit                             307924 non-null  int64         \n",
      " 17  Urban_or_Rural_Area                     307924 non-null  object        \n",
      " 18  Weather_Conditions                      307924 non-null  object        \n",
      " 19  Vehicle_Type                            307924 non-null  object        \n",
      " 20  Hours                                   307924 non-null  float64       \n",
      " 21  Minute                                  307924 non-null  float64       \n",
      " 22  Vehicle_Group                           307924 non-null  object        \n",
      " 23  Road_Condition                          307924 non-null  object        \n",
      " 24  JD_Mini-roundabout                      307924 non-null  int64         \n",
      " 25  JD_More_than_4_arms_not_roundabout      307924 non-null  int64         \n",
      " 26  JD_Not_at_junction_or_within_20_metres  307924 non-null  int64         \n",
      " 27  JD_Other_junction                       307924 non-null  int64         \n",
      " 28  JD_Private_drive_or_entrance            307924 non-null  int64         \n",
      " 29  JD_Roundabout                           307924 non-null  int64         \n",
      " 30  JD_Slip_road                            307924 non-null  int64         \n",
      " 31  JD_T_or_staggered_junction              307924 non-null  int64         \n",
      " 32  LC_Darkness_lights_lit                  307924 non-null  int64         \n",
      " 33  LC_Darkness_lights_unlit                307924 non-null  int64         \n",
      " 34  LC_Darkness_no_lighting                 307924 non-null  int64         \n",
      " 35  LC_Daylight                             307924 non-null  int64         \n",
      " 36  RT_One_way_street                       307924 non-null  int64         \n",
      " 37  RT_Roundabout                           307924 non-null  int64         \n",
      " 38  RT_Single_carriageway                   307924 non-null  int64         \n",
      " 39  RT_Slip_road                            307924 non-null  int64         \n",
      " 40  DoW_Monday                              307924 non-null  int64         \n",
      " 41  DoW_Saturday                            307924 non-null  int64         \n",
      " 42  DoW_Sunday                              307924 non-null  int64         \n",
      " 43  DoW_Thursday                            307924 non-null  int64         \n",
      " 44  DoW_Tuesday                             307924 non-null  int64         \n",
      " 45  DoW_Wednesday                           307924 non-null  int64         \n",
      " 46  High_Wind                               307924 non-null  int64         \n",
      " 47  Condition                               307924 non-null  object        \n",
      " 48  Weather_Fog or mist                     307924 non-null  int64         \n",
      " 49  Weather_Other                           307924 non-null  int64         \n",
      " 50  Weather_Raining                         307924 non-null  int64         \n",
      " 51  Weather_Snowing                         307924 non-null  int64         \n",
      "dtypes: datetime64[ns](1), float64(4), int64(30), object(17)\n",
      "memory usage: 124.5+ MB\n"
     ]
    }
   ],
   "source": [
    "ra.info()"
   ]
  },
  {
   "cell_type": "code",
   "execution_count": 33,
   "id": "6352b045-919e-4c74-a397-e63d785fd8c8",
   "metadata": {},
   "outputs": [
    {
     "data": {
      "text/html": [
       "<div>\n",
       "<style scoped>\n",
       "    .dataframe tbody tr th:only-of-type {\n",
       "        vertical-align: middle;\n",
       "    }\n",
       "\n",
       "    .dataframe tbody tr th {\n",
       "        vertical-align: top;\n",
       "    }\n",
       "\n",
       "    .dataframe thead th {\n",
       "        text-align: right;\n",
       "    }\n",
       "</style>\n",
       "<table border=\"1\" class=\"dataframe\">\n",
       "  <thead>\n",
       "    <tr style=\"text-align: right;\">\n",
       "      <th></th>\n",
       "      <th>Condition</th>\n",
       "      <th>Road_Condition</th>\n",
       "      <th>Weather_Conditions</th>\n",
       "    </tr>\n",
       "  </thead>\n",
       "  <tbody>\n",
       "    <tr>\n",
       "      <th>0</th>\n",
       "      <td>Fine</td>\n",
       "      <td>Dry</td>\n",
       "      <td>Fine no high winds</td>\n",
       "    </tr>\n",
       "    <tr>\n",
       "      <th>1</th>\n",
       "      <td>Fine</td>\n",
       "      <td>Wet or damp</td>\n",
       "      <td>Fine no high winds</td>\n",
       "    </tr>\n",
       "    <tr>\n",
       "      <th>2</th>\n",
       "      <td>Fine</td>\n",
       "      <td>Dry</td>\n",
       "      <td>Fine no high winds</td>\n",
       "    </tr>\n",
       "    <tr>\n",
       "      <th>3</th>\n",
       "      <td>Other</td>\n",
       "      <td>Snow</td>\n",
       "      <td>Other</td>\n",
       "    </tr>\n",
       "    <tr>\n",
       "      <th>4</th>\n",
       "      <td>Fine</td>\n",
       "      <td>Dry</td>\n",
       "      <td>Fine no high winds</td>\n",
       "    </tr>\n",
       "  </tbody>\n",
       "</table>\n",
       "</div>"
      ],
      "text/plain": [
       "  Condition Road_Condition  Weather_Conditions\n",
       "0      Fine            Dry  Fine no high winds\n",
       "1      Fine    Wet or damp  Fine no high winds\n",
       "2      Fine            Dry  Fine no high winds\n",
       "3     Other           Snow               Other\n",
       "4      Fine            Dry  Fine no high winds"
      ]
     },
     "execution_count": 33,
     "metadata": {},
     "output_type": "execute_result"
    }
   ],
   "source": [
    "ra[[\"Condition\",\"Road_Condition\",\"Weather_Conditions\"]].head()"
   ]
  },
  {
   "cell_type": "code",
   "execution_count": 34,
   "id": "3a30bf43-7636-402e-9a72-9cdb36c9cf5f",
   "metadata": {},
   "outputs": [
    {
     "data": {
      "text/html": [
       "<div>\n",
       "<style scoped>\n",
       "    .dataframe tbody tr th:only-of-type {\n",
       "        vertical-align: middle;\n",
       "    }\n",
       "\n",
       "    .dataframe tbody tr th {\n",
       "        vertical-align: top;\n",
       "    }\n",
       "\n",
       "    .dataframe thead th {\n",
       "        text-align: right;\n",
       "    }\n",
       "</style>\n",
       "<table border=\"1\" class=\"dataframe\">\n",
       "  <thead>\n",
       "    <tr style=\"text-align: right;\">\n",
       "      <th></th>\n",
       "      <th>Accident_Index</th>\n",
       "      <th>Accident Date</th>\n",
       "      <th>Day_of_Week</th>\n",
       "      <th>Junction_Control</th>\n",
       "      <th>Junction_Detail</th>\n",
       "      <th>Accident_Severity</th>\n",
       "      <th>Latitude</th>\n",
       "      <th>Light_Conditions</th>\n",
       "      <th>Local_Authority_(District)</th>\n",
       "      <th>Carriageway_Hazards</th>\n",
       "      <th>...</th>\n",
       "      <th>DoW_Sunday</th>\n",
       "      <th>DoW_Thursday</th>\n",
       "      <th>DoW_Tuesday</th>\n",
       "      <th>DoW_Wednesday</th>\n",
       "      <th>High_Wind</th>\n",
       "      <th>Condition</th>\n",
       "      <th>Weather_Fog or mist</th>\n",
       "      <th>Weather_Other</th>\n",
       "      <th>Weather_Raining</th>\n",
       "      <th>Weather_Snowing</th>\n",
       "    </tr>\n",
       "  </thead>\n",
       "  <tbody>\n",
       "    <tr>\n",
       "      <th>0</th>\n",
       "      <td>BS0000001</td>\n",
       "      <td>2021-01-01</td>\n",
       "      <td>Thursday</td>\n",
       "      <td>Give way or uncontrolled</td>\n",
       "      <td>T or staggered junction</td>\n",
       "      <td>Serious</td>\n",
       "      <td>51.512273</td>\n",
       "      <td>Daylight</td>\n",
       "      <td>Kensington and Chelsea</td>\n",
       "      <td>No Hazard</td>\n",
       "      <td>...</td>\n",
       "      <td>0</td>\n",
       "      <td>1</td>\n",
       "      <td>0</td>\n",
       "      <td>0</td>\n",
       "      <td>1</td>\n",
       "      <td>Fine</td>\n",
       "      <td>0</td>\n",
       "      <td>0</td>\n",
       "      <td>0</td>\n",
       "      <td>0</td>\n",
       "    </tr>\n",
       "    <tr>\n",
       "      <th>1</th>\n",
       "      <td>BS0000002</td>\n",
       "      <td>2021-01-05</td>\n",
       "      <td>Monday</td>\n",
       "      <td>Give way or uncontrolled</td>\n",
       "      <td>Crossroads</td>\n",
       "      <td>Serious</td>\n",
       "      <td>51.514399</td>\n",
       "      <td>Daylight</td>\n",
       "      <td>Kensington and Chelsea</td>\n",
       "      <td>No Hazard</td>\n",
       "      <td>...</td>\n",
       "      <td>0</td>\n",
       "      <td>0</td>\n",
       "      <td>0</td>\n",
       "      <td>0</td>\n",
       "      <td>1</td>\n",
       "      <td>Fine</td>\n",
       "      <td>0</td>\n",
       "      <td>0</td>\n",
       "      <td>0</td>\n",
       "      <td>0</td>\n",
       "    </tr>\n",
       "    <tr>\n",
       "      <th>2</th>\n",
       "      <td>BS0000003</td>\n",
       "      <td>2021-01-04</td>\n",
       "      <td>Sunday</td>\n",
       "      <td>Give way or uncontrolled</td>\n",
       "      <td>T or staggered junction</td>\n",
       "      <td>Slight</td>\n",
       "      <td>51.486668</td>\n",
       "      <td>Daylight</td>\n",
       "      <td>Kensington and Chelsea</td>\n",
       "      <td>No Hazard</td>\n",
       "      <td>...</td>\n",
       "      <td>1</td>\n",
       "      <td>0</td>\n",
       "      <td>0</td>\n",
       "      <td>0</td>\n",
       "      <td>1</td>\n",
       "      <td>Fine</td>\n",
       "      <td>0</td>\n",
       "      <td>0</td>\n",
       "      <td>0</td>\n",
       "      <td>0</td>\n",
       "    </tr>\n",
       "    <tr>\n",
       "      <th>3</th>\n",
       "      <td>BS0000004</td>\n",
       "      <td>2021-01-05</td>\n",
       "      <td>Monday</td>\n",
       "      <td>Auto traffic signal</td>\n",
       "      <td>T or staggered junction</td>\n",
       "      <td>Serious</td>\n",
       "      <td>51.507804</td>\n",
       "      <td>Daylight</td>\n",
       "      <td>Kensington and Chelsea</td>\n",
       "      <td>No Hazard</td>\n",
       "      <td>...</td>\n",
       "      <td>0</td>\n",
       "      <td>0</td>\n",
       "      <td>0</td>\n",
       "      <td>0</td>\n",
       "      <td>0</td>\n",
       "      <td>Other</td>\n",
       "      <td>0</td>\n",
       "      <td>1</td>\n",
       "      <td>0</td>\n",
       "      <td>0</td>\n",
       "    </tr>\n",
       "    <tr>\n",
       "      <th>4</th>\n",
       "      <td>BS0000005</td>\n",
       "      <td>2021-01-06</td>\n",
       "      <td>Tuesday</td>\n",
       "      <td>Auto traffic signal</td>\n",
       "      <td>Crossroads</td>\n",
       "      <td>Serious</td>\n",
       "      <td>51.482076</td>\n",
       "      <td>Darkness - lights lit</td>\n",
       "      <td>Kensington and Chelsea</td>\n",
       "      <td>No Hazard</td>\n",
       "      <td>...</td>\n",
       "      <td>0</td>\n",
       "      <td>0</td>\n",
       "      <td>1</td>\n",
       "      <td>0</td>\n",
       "      <td>1</td>\n",
       "      <td>Fine</td>\n",
       "      <td>0</td>\n",
       "      <td>0</td>\n",
       "      <td>0</td>\n",
       "      <td>0</td>\n",
       "    </tr>\n",
       "  </tbody>\n",
       "</table>\n",
       "<p>5 rows × 52 columns</p>\n",
       "</div>"
      ],
      "text/plain": [
       "  Accident_Index Accident Date Day_of_Week          Junction_Control  \\\n",
       "0      BS0000001    2021-01-01    Thursday  Give way or uncontrolled   \n",
       "1      BS0000002    2021-01-05      Monday  Give way or uncontrolled   \n",
       "2      BS0000003    2021-01-04      Sunday  Give way or uncontrolled   \n",
       "3      BS0000004    2021-01-05      Monday       Auto traffic signal   \n",
       "4      BS0000005    2021-01-06     Tuesday       Auto traffic signal   \n",
       "\n",
       "           Junction_Detail Accident_Severity   Latitude  \\\n",
       "0  T or staggered junction           Serious  51.512273   \n",
       "1               Crossroads           Serious  51.514399   \n",
       "2  T or staggered junction            Slight  51.486668   \n",
       "3  T or staggered junction           Serious  51.507804   \n",
       "4               Crossroads           Serious  51.482076   \n",
       "\n",
       "        Light_Conditions Local_Authority_(District) Carriageway_Hazards  ...  \\\n",
       "0               Daylight     Kensington and Chelsea           No Hazard  ...   \n",
       "1               Daylight     Kensington and Chelsea           No Hazard  ...   \n",
       "2               Daylight     Kensington and Chelsea           No Hazard  ...   \n",
       "3               Daylight     Kensington and Chelsea           No Hazard  ...   \n",
       "4  Darkness - lights lit     Kensington and Chelsea           No Hazard  ...   \n",
       "\n",
       "   DoW_Sunday  DoW_Thursday  DoW_Tuesday DoW_Wednesday High_Wind Condition  \\\n",
       "0           0             1            0             0         1      Fine   \n",
       "1           0             0            0             0         1      Fine   \n",
       "2           1             0            0             0         1      Fine   \n",
       "3           0             0            0             0         0     Other   \n",
       "4           0             0            1             0         1      Fine   \n",
       "\n",
       "   Weather_Fog or mist Weather_Other Weather_Raining Weather_Snowing  \n",
       "0                    0             0               0               0  \n",
       "1                    0             0               0               0  \n",
       "2                    0             0               0               0  \n",
       "3                    0             1               0               0  \n",
       "4                    0             0               0               0  \n",
       "\n",
       "[5 rows x 52 columns]"
      ]
     },
     "execution_count": 34,
     "metadata": {},
     "output_type": "execute_result"
    }
   ],
   "source": [
    "ra.head()"
   ]
  },
  {
   "cell_type": "markdown",
   "id": "71e86045-7829-4d11-b30a-13c25763be22",
   "metadata": {},
   "source": [
    "### Applying One Hot Encoding on \"Vehicle_Group\" column"
   ]
  },
  {
   "cell_type": "code",
   "execution_count": 35,
   "id": "e86cfa09-e443-4689-9e44-b9998d0659c9",
   "metadata": {},
   "outputs": [],
   "source": [
    "vgroup=pd.get_dummies(ra[\"Vehicle_Group\"],prefix=\"vg\",drop_first=True).astype(int)\n",
    "ra=ra.join(vgroup)"
   ]
  },
  {
   "cell_type": "code",
   "execution_count": null,
   "id": "5a78ed3c-92f4-4a3c-80f3-58306240852a",
   "metadata": {},
   "outputs": [],
   "source": []
  },
  {
   "cell_type": "markdown",
   "id": "b86890ae-18d7-455b-b72c-57d808027c78",
   "metadata": {},
   "source": [
    "### Applying One Hot Encoding on \"Carriageway_Hazards\" column"
   ]
  },
  {
   "cell_type": "code",
   "execution_count": 36,
   "id": "0b18f215-869c-4a8a-90a7-820e61ab4af2",
   "metadata": {},
   "outputs": [],
   "source": [
    "CH_encoded= pd.get_dummies(ra['Carriageway_Hazards'],prefix=\"CH\", drop_first=True).astype(int)\n",
    "ra=ra.join(CH_encoded)"
   ]
  },
  {
   "cell_type": "markdown",
   "id": "b31f0617-e288-4d84-b9b2-d7ab0708c4d7",
   "metadata": {},
   "source": [
    "### -----------------Ordinal Encoding--------------------"
   ]
  },
  {
   "cell_type": "code",
   "execution_count": 37,
   "id": "c3299923-802e-4b20-bd6f-37395f7d7f18",
   "metadata": {},
   "outputs": [
    {
     "name": "stdout",
     "output_type": "stream",
     "text": [
      "Accident_Severity Vs. Accident_Severity_Encoded\n",
      "  Accident_Severity  Accident_Severity_Encoded\n",
      "0           Serious                          2\n",
      "1           Serious                          2\n",
      "2            Slight                          1\n",
      "3           Serious                          2\n",
      "4           Serious                          2\n"
     ]
    }
   ],
   "source": [
    "Severity_map={\n",
    "\"Slight\":1,\n",
    "\"Serious\":2,\n",
    "\"Fatal\":3\n",
    "}\n",
    "ra[\"Accident_Severity_Encoded\"]=ra[\"Accident_Severity\"].map(Severity_map)\n",
    "\n",
    "print(\"Accident_Severity Vs. Accident_Severity_Encoded\")\n",
    "print(ra[[\"Accident_Severity\",\"Accident_Severity_Encoded\"]].head())\n"
   ]
  },
  {
   "cell_type": "markdown",
   "id": "0a299bc8-880d-4af5-b166-aef9c2a53620",
   "metadata": {},
   "source": [
    "## Analysis"
   ]
  },
  {
   "cell_type": "markdown",
   "id": "a7a159f3-c6b5-4f50-a7a0-2d8b154962e2",
   "metadata": {},
   "source": [
    "#### 1. What is the distribution of accident severity?"
   ]
  },
  {
   "cell_type": "code",
   "execution_count": 38,
   "id": "d728ea85-bd49-41d0-abd3-be02fd369a59",
   "metadata": {},
   "outputs": [
    {
     "name": "stdout",
     "output_type": "stream",
     "text": [
      "Plotting distribution from 'Accident_Severity_Encoded' column\n"
     ]
    },
    {
     "data": {
      "text/plain": [
       "[Text(0, 0, '1 (Slight)'), Text(1, 0, '2 (Serious)'), Text(2, 0, '3 (Fatal)')]"
      ]
     },
     "execution_count": 38,
     "metadata": {},
     "output_type": "execute_result"
    },
    {
     "data": {
      "image/png": "[encoded data removed]",
      "text/plain": [
       "<Figure size 800x700 with 1 Axes>"
      ]
     },
     "metadata": {},
     "output_type": "display_data"
    }
   ],
   "source": [
    "\n",
    "plt.figure(figsize=[8,7])\n",
    "print(\"Plotting distribution from 'Accident_Severity_Encoded' column\")\n",
    "ax=sns.countplot(data=ra, x='Accident_Severity_Encoded',order=[1,2,3],palette=\"copper\")\n",
    "plt.title('Distribution of Accident Severity')\n",
    "plt.xlabel('Accident Severity')\n",
    "plt.ylabel('Number of Accident')\n",
    "\n",
    "ax.set_xticklabels(['1 (Slight)', '2 (Serious)', '3 (Fatal)'])"
   ]
  },
  {
   "cell_type": "markdown",
   "id": "8f7867d9-5381-48e7-b4ca-6e625dab4ce1",
   "metadata": {},
   "source": [
    "#### 2. At what hour of the day do most accidents occur?"
   ]
  },
  {
   "cell_type": "code",
   "execution_count": 39,
   "id": "4b0e0a7f-b682-4160-b86b-9971ac65d20c",
   "metadata": {},
   "outputs": [
    {
     "name": "stdout",
     "output_type": "stream",
     "text": [
      "\n",
      "Accidents by Hour of the Day:\n",
      "Hours\n",
      "0.0      4666\n",
      "1.0      3533\n",
      "2.0      2652\n",
      "3.0      2311\n",
      "4.0      1720\n",
      "5.0      2491\n",
      "6.0      5271\n",
      "7.0     12560\n",
      "8.0     22548\n",
      "9.0     15554\n",
      "10.0    13790\n",
      "11.0    16141\n",
      "12.0    18340\n",
      "13.0    18965\n",
      "14.0    19083\n",
      "15.0    24150\n",
      "16.0    24899\n",
      "17.0    26960\n",
      "18.0    21060\n",
      "19.0    15847\n",
      "20.0    11400\n",
      "21.0     9440\n",
      "22.0     8143\n",
      "23.0     6400\n",
      "Name: count, dtype: int64\n"
     ]
    },
    {
     "data": {
      "image/png": "[encoded data removed]",
      "text/plain": [
       "<Figure size 1200x600 with 1 Axes>"
      ]
     },
     "metadata": {},
     "output_type": "display_data"
    }
   ],
   "source": [
    "hourly_accidents = ra['Hours'].value_counts().sort_index()\n",
    "print(\"\\nAccidents by Hour of the Day:\")\n",
    "print(hourly_accidents)\n",
    "\n",
    "# Plot the trend\n",
    "plt.figure(figsize=(12, 6))\n",
    "hourly_accidents.plot(kind='line', marker='o',color=\"magenta\")\n",
    "plt.title('Accidents by Hour of the Day')\n",
    "plt.xlabel('Hour of the Day (24h)')\n",
    "plt.ylabel('Number of Accidents')\n",
    "plt.xticks(range(0, 24))\n",
    "plt.grid(True)\n",
    "plt.show()"
   ]
  },
  {
   "cell_type": "markdown",
   "id": "6d6c1ffd-77ce-43f4-b225-a78b426a96bb",
   "metadata": {},
   "source": [
    "### 3. Which day of the week has the most accidents?"
   ]
  },
  {
   "cell_type": "code",
   "execution_count": 40,
   "id": "9edae718-ac49-4ef2-9b3b-ef81ffa0dffd",
   "metadata": {},
   "outputs": [
    {
     "data": {
      "image/png": "[encoded data removed]",
      "text/plain": [
       "<Figure size 1200x900 with 1 Axes>"
      ]
     },
     "metadata": {},
     "output_type": "display_data"
    }
   ],
   "source": [
    "weeks=['Monday', 'Tuesday', 'Wednesday', 'Thursday', 'Friday', 'Saturday', 'Sunday']\n",
    "count=ra['Day_of_Week'].value_counts().reindex(weeks)\n",
    "plt.figure(figsize=[12,9])\n",
    "sns.barplot(x=weeks,y=count,order=weeks,palette=\"Accent\")\n",
    "plt.title(\"Most Accident in weeks\")\n",
    "plt.xlabel(\"Day of Week\")\n",
    "plt.ylabel(\"Number of Accidents\")\n",
    "plt.show()"
   ]
  },
  {
   "cell_type": "markdown",
   "id": "69e94602-6e32-460f-a256-1aae86b63b14",
   "metadata": {},
   "source": [
    "#### 4. How do weather conditions relate to accident severity?"
   ]
  },
  {
   "cell_type": "code",
   "execution_count": 41,
   "id": "c989398e-1d14-4c8a-a6ba-9ce01ca56360",
   "metadata": {},
   "outputs": [
    {
     "name": "stdout",
     "output_type": "stream",
     "text": [
      "Weather Accident\n"
     ]
    },
    {
     "data": {
      "image/png": "[encoded data removed]",
      "text/plain": [
       "<Figure size 1200x700 with 1 Axes>"
      ]
     },
     "metadata": {},
     "output_type": "display_data"
    }
   ],
   "source": [
    "weather_accident=pd.crosstab(ra[\"Accident_Severity\"],ra[\"Weather_Conditions\"])\n",
    "print(\"Weather Accident\")\n",
    "\n",
    "weather_severity_norm=weather_accident.div(weather_accident.sum(axis=1),axis=0)\n",
    "\n",
    "weather_severity_norm.plot(kind='bar', stacked=True, figsize=(12, 7))\n",
    "plt.title('Proportion of Accident Severity by Weather Condition')\n",
    "plt.xlabel('Weather Condition')\n",
    "plt.ylabel('Proportion')\n",
    "plt.xticks(rotation=45, ha='right')\n",
    "plt.legend(title='Accident Severity', bbox_to_anchor=(1.02, 1), loc='upper left')\n",
    "plt.tight_layout()\n",
    "plt.show()"
   ]
  },
  {
   "cell_type": "code",
   "execution_count": 42,
   "id": "c3100599-82a1-4ecf-b479-d284b3f6eb1f",
   "metadata": {},
   "outputs": [
    {
     "name": "stdout",
     "output_type": "stream",
     "text": [
      "<class 'pandas.core.frame.DataFrame'>\n",
      "Index: 307924 entries, 0 to 307972\n",
      "Data columns (total 62 columns):\n",
      " #   Column                                      Non-Null Count   Dtype         \n",
      "---  ------                                      --------------   -----         \n",
      " 0   Accident_Index                              307924 non-null  object        \n",
      " 1   Accident Date                               307924 non-null  datetime64[ns]\n",
      " 2   Day_of_Week                                 307924 non-null  object        \n",
      " 3   Junction_Control                            307924 non-null  object        \n",
      " 4   Junction_Detail                             307924 non-null  object        \n",
      " 5   Accident_Severity                           307924 non-null  object        \n",
      " 6   Latitude                                    307924 non-null  float64       \n",
      " 7   Light_Conditions                            307924 non-null  object        \n",
      " 8   Local_Authority_(District)                  307924 non-null  object        \n",
      " 9   Carriageway_Hazards                         307924 non-null  object        \n",
      " 10  Longitude                                   307924 non-null  float64       \n",
      " 11  Number_of_Casualties                        307924 non-null  int64         \n",
      " 12  Number_of_Vehicles                          307924 non-null  int64         \n",
      " 13  Police_Force                                307924 non-null  object        \n",
      " 14  Road_Surface_Conditions                     307924 non-null  object        \n",
      " 15  Road_Type                                   307924 non-null  object        \n",
      " 16  Speed_limit                                 307924 non-null  int64         \n",
      " 17  Urban_or_Rural_Area                         307924 non-null  object        \n",
      " 18  Weather_Conditions                          307924 non-null  object        \n",
      " 19  Vehicle_Type                                307924 non-null  object        \n",
      " 20  Hours                                       307924 non-null  float64       \n",
      " 21  Minute                                      307924 non-null  float64       \n",
      " 22  Vehicle_Group                               307924 non-null  object        \n",
      " 23  Road_Condition                              307924 non-null  object        \n",
      " 24  JD_Mini-roundabout                          307924 non-null  int64         \n",
      " 25  JD_More_than_4_arms_not_roundabout          307924 non-null  int64         \n",
      " 26  JD_Not_at_junction_or_within_20_metres      307924 non-null  int64         \n",
      " 27  JD_Other_junction                           307924 non-null  int64         \n",
      " 28  JD_Private_drive_or_entrance                307924 non-null  int64         \n",
      " 29  JD_Roundabout                               307924 non-null  int64         \n",
      " 30  JD_Slip_road                                307924 non-null  int64         \n",
      " 31  JD_T_or_staggered_junction                  307924 non-null  int64         \n",
      " 32  LC_Darkness_lights_lit                      307924 non-null  int64         \n",
      " 33  LC_Darkness_lights_unlit                    307924 non-null  int64         \n",
      " 34  LC_Darkness_no_lighting                     307924 non-null  int64         \n",
      " 35  LC_Daylight                                 307924 non-null  int64         \n",
      " 36  RT_One_way_street                           307924 non-null  int64         \n",
      " 37  RT_Roundabout                               307924 non-null  int64         \n",
      " 38  RT_Single_carriageway                       307924 non-null  int64         \n",
      " 39  RT_Slip_road                                307924 non-null  int64         \n",
      " 40  DoW_Monday                                  307924 non-null  int64         \n",
      " 41  DoW_Saturday                                307924 non-null  int64         \n",
      " 42  DoW_Sunday                                  307924 non-null  int64         \n",
      " 43  DoW_Thursday                                307924 non-null  int64         \n",
      " 44  DoW_Tuesday                                 307924 non-null  int64         \n",
      " 45  DoW_Wednesday                               307924 non-null  int64         \n",
      " 46  High_Wind                                   307924 non-null  int64         \n",
      " 47  Condition                                   307924 non-null  object        \n",
      " 48  Weather_Fog or mist                         307924 non-null  int64         \n",
      " 49  Weather_Other                               307924 non-null  int64         \n",
      " 50  Weather_Raining                             307924 non-null  int64         \n",
      " 51  Weather_Snowing                             307924 non-null  int64         \n",
      " 52  vg_Goods_Vehicle                            307924 non-null  int64         \n",
      " 53  vg_Motorcycle                               307924 non-null  int64         \n",
      " 54  vg_Other_Rare                               307924 non-null  int64         \n",
      " 55  vg_Transport_Vehicle                        307924 non-null  int64         \n",
      " 56  CH_No Hazard                                307924 non-null  int64         \n",
      " 57  CH_Other object on road                     307924 non-null  int64         \n",
      " 58  CH_Pedestrian in carriageway - not injured  307924 non-null  int64         \n",
      " 59  CH_Previous accident                        307924 non-null  int64         \n",
      " 60  CH_Vehicle load on road                     307924 non-null  int64         \n",
      " 61  Accident_Severity_Encoded                   307924 non-null  int64         \n",
      "dtypes: datetime64[ns](1), float64(4), int64(40), object(17)\n",
      "memory usage: 148.0+ MB\n"
     ]
    }
   ],
   "source": [
    "ra.info()"
   ]
  },
  {
   "cell_type": "markdown",
   "id": "be10c8f6-4453-42f3-be6c-67c29cf8aa0e",
   "metadata": {},
   "source": [
    "#### 5. How does accident severity differ between urban and rural areas?"
   ]
  },
  {
   "cell_type": "code",
   "execution_count": 43,
   "id": "aad81fb8-ced8-4e44-924a-6c8901f538f4",
   "metadata": {},
   "outputs": [
    {
     "name": "stdout",
     "output_type": "stream",
     "text": [
      "\n",
      " Urban Vs. Rural:\n"
     ]
    },
    {
     "data": {
      "text/plain": [
       "<Figure size 1200x900 with 0 Axes>"
      ]
     },
     "metadata": {},
     "output_type": "display_data"
    },
    {
     "data": {
      "image/png": "[encoded data removed]",
      "text/plain": [
       "<Figure size 640x480 with 1 Axes>"
      ]
     },
     "metadata": {},
     "output_type": "display_data"
    }
   ],
   "source": [
    "plt.figure(figsize=[12,9])\n",
    "print(\"\\n Urban Vs. Rural:\")\n",
    "\n",
    "ur=pd.crosstab( ra[\"Urban_or_Rural_Area\"] ,ra[\"Accident_Severity\"])\n",
    "ur.plot(kind=\"bar\")\n",
    "plt.title(\"Accident severity Urban Area Vs. Rural Area\")\n",
    "plt.xlabel(\"Area Type\")\n",
    "plt.ylabel(\"Number of Accidents\")\n",
    "plt.xticks(rotation=0)\n",
    "plt.show()"
   ]
  },
  {
   "cell_type": "markdown",
   "id": "aab56edd-590a-4ade-9f33-c4b04466d687",
   "metadata": {},
   "source": [
    "#### 6. What is the average number of casualties by speed limit?"
   ]
  },
  {
   "cell_type": "code",
   "execution_count": 44,
   "id": "4e87e7ae-71ab-4024-957c-461cc9737196",
   "metadata": {},
   "outputs": [
    {
     "name": "stdout",
     "output_type": "stream",
     "text": [
      "\n",
      " Average number of casualities by speed limit\n"
     ]
    },
    {
     "data": {
      "image/png": "[encoded data removed]",
      "text/plain": [
       "<Figure size 1100x800 with 1 Axes>"
      ]
     },
     "metadata": {},
     "output_type": "display_data"
    }
   ],
   "source": [
    "plt.figure(figsize=[11,8])\n",
    "cas=ra.groupby('Speed_limit')['Number_of_Casualties'].mean().sort_index()\n",
    "print('\\n Average number of casualities by speed limit')\n",
    "sns.barplot(x=cas.index,y=cas.values,palette='magma')\n",
    "plt.title(\"Average number of casualities by speed limit\")\n",
    "plt.xlabel(\"Speed limit\")\n",
    "plt.ylabel(\"Number of Casuality\")\n",
    "plt.show()"
   ]
  },
  {
   "cell_type": "markdown",
   "id": "d3963094-b6ab-4576-bc87-1ae65959751b",
   "metadata": {},
   "source": [
    "## Removing unwanted columns"
   ]
  },
  {
   "cell_type": "code",
   "execution_count": 45,
   "id": "1265be07-3d12-43c5-9bd7-67a5f63bbc58",
   "metadata": {},
   "outputs": [],
   "source": [
    "columns_to_drop = [\n",
    "    \"Accident_Index\", \"Day_of_Week\", \"Junction_Control\", \"Junction_Detail\",\n",
    "    \"Accident_Severity\", \"Light_Conditions\", \"Local_Authority_(District)\", \"Carriageway_Hazards\",\n",
    "    \"Police_Force\", \"Road_Surface_Conditions\", \"Road_Type\", \"Urban_or_Rural_Area\",\n",
    "    \"Weather_Conditions\", \"Vehicle_Type\", \"Vehicle_Group\", \"Road_Condition\", \"Condition\"\n",
    "]\n",
    "\n",
    "ra = ra.drop(columns=columns_to_drop)"
   ]
  },
  {
   "cell_type": "code",
   "execution_count": 46,
   "id": "3ad55d73-5322-4687-bed4-c93e7d825288",
   "metadata": {},
   "outputs": [],
   "source": [
    "#--Accident Date--\n",
    "\n",
    "# Reason: This is a datetime object, not a number. Models like Logistic Regression can only process numeric data. \n",
    "# I have already done the correct thing by extracting the useful parts of the date (Hours, Minute, DoW_... columns)\n",
    "# So this original column is no longer needed.\n",
    "\n",
    "#--Number_of_Casualties--\n",
    "\n",
    "# Reason: This is a subtle but critical one called target leakage. \n",
    "# The Accident_Severity (Slight, Serious, Fatal) is determined by the outcome of the casualties. \n",
    "# An accident is \"Fatal\" because a casualty occurred. Therefore, Number_of_Casualties is more of an outcome of the event, just like severity. \n",
    "# Your goal is to predict the severity based on the conditions of the accident (like weather, speed, location), not based on the outcome itself. \n",
    "# Including it will make your model look much more accurate than it actually is."
   ]
  },
  {
   "cell_type": "code",
   "execution_count": 47,
   "id": "a32db8b3-65a1-4680-b0e5-e293b6cab6db",
   "metadata": {},
   "outputs": [
    {
     "name": "stdout",
     "output_type": "stream",
     "text": [
      "<class 'pandas.core.frame.DataFrame'>\n",
      "Index: 307924 entries, 0 to 307972\n",
      "Data columns (total 45 columns):\n",
      " #   Column                                      Non-Null Count   Dtype         \n",
      "---  ------                                      --------------   -----         \n",
      " 0   Accident Date                               307924 non-null  datetime64[ns]\n",
      " 1   Latitude                                    307924 non-null  float64       \n",
      " 2   Longitude                                   307924 non-null  float64       \n",
      " 3   Number_of_Casualties                        307924 non-null  int64         \n",
      " 4   Number_of_Vehicles                          307924 non-null  int64         \n",
      " 5   Speed_limit                                 307924 non-null  int64         \n",
      " 6   Hours                                       307924 non-null  float64       \n",
      " 7   Minute                                      307924 non-null  float64       \n",
      " 8   JD_Mini-roundabout                          307924 non-null  int64         \n",
      " 9   JD_More_than_4_arms_not_roundabout          307924 non-null  int64         \n",
      " 10  JD_Not_at_junction_or_within_20_metres      307924 non-null  int64         \n",
      " 11  JD_Other_junction                           307924 non-null  int64         \n",
      " 12  JD_Private_drive_or_entrance                307924 non-null  int64         \n",
      " 13  JD_Roundabout                               307924 non-null  int64         \n",
      " 14  JD_Slip_road                                307924 non-null  int64         \n",
      " 15  JD_T_or_staggered_junction                  307924 non-null  int64         \n",
      " 16  LC_Darkness_lights_lit                      307924 non-null  int64         \n",
      " 17  LC_Darkness_lights_unlit                    307924 non-null  int64         \n",
      " 18  LC_Darkness_no_lighting                     307924 non-null  int64         \n",
      " 19  LC_Daylight                                 307924 non-null  int64         \n",
      " 20  RT_One_way_street                           307924 non-null  int64         \n",
      " 21  RT_Roundabout                               307924 non-null  int64         \n",
      " 22  RT_Single_carriageway                       307924 non-null  int64         \n",
      " 23  RT_Slip_road                                307924 non-null  int64         \n",
      " 24  DoW_Monday                                  307924 non-null  int64         \n",
      " 25  DoW_Saturday                                307924 non-null  int64         \n",
      " 26  DoW_Sunday                                  307924 non-null  int64         \n",
      " 27  DoW_Thursday                                307924 non-null  int64         \n",
      " 28  DoW_Tuesday                                 307924 non-null  int64         \n",
      " 29  DoW_Wednesday                               307924 non-null  int64         \n",
      " 30  High_Wind                                   307924 non-null  int64         \n",
      " 31  Weather_Fog or mist                         307924 non-null  int64         \n",
      " 32  Weather_Other                               307924 non-null  int64         \n",
      " 33  Weather_Raining                             307924 non-null  int64         \n",
      " 34  Weather_Snowing                             307924 non-null  int64         \n",
      " 35  vg_Goods_Vehicle                            307924 non-null  int64         \n",
      " 36  vg_Motorcycle                               307924 non-null  int64         \n",
      " 37  vg_Other_Rare                               307924 non-null  int64         \n",
      " 38  vg_Transport_Vehicle                        307924 non-null  int64         \n",
      " 39  CH_No Hazard                                307924 non-null  int64         \n",
      " 40  CH_Other object on road                     307924 non-null  int64         \n",
      " 41  CH_Pedestrian in carriageway - not injured  307924 non-null  int64         \n",
      " 42  CH_Previous accident                        307924 non-null  int64         \n",
      " 43  CH_Vehicle load on road                     307924 non-null  int64         \n",
      " 44  Accident_Severity_Encoded                   307924 non-null  int64         \n",
      "dtypes: datetime64[ns](1), float64(4), int64(40)\n",
      "memory usage: 108.1 MB\n"
     ]
    }
   ],
   "source": [
    "ra.info()"
   ]
  },
  {
   "cell_type": "markdown",
   "id": "418922a6-8fc4-447c-98c0-0c6380b16ae1",
   "metadata": {},
   "source": [
    "## ---------Scaling Applying Logistic Regression Model----------"
   ]
  },
  {
   "cell_type": "markdown",
   "id": "41cdf57a-9dee-4137-9809-2009d12f2b09",
   "metadata": {},
   "source": [
    "### Seperating x and y for training"
   ]
  },
  {
   "cell_type": "code",
   "execution_count": 48,
   "id": "a8f9442d-521d-4f3c-b8cb-6a270d7c717d",
   "metadata": {},
   "outputs": [
    {
     "name": "stdout",
     "output_type": "stream",
     "text": [
      "Shape of X (features): (307924, 42)\n",
      "Shape of y (target): (307924,)\n"
     ]
    }
   ],
   "source": [
    "y = ra['Accident_Severity_Encoded']\n",
    "\n",
    "X = ra.drop(columns=[\n",
    "    'Accident_Severity_Encoded',\n",
    "    'Accident Date',       \n",
    "    'Number_of_Casualties'      \n",
    "])\n",
    "\n",
    "print(f\"Shape of X (features): {X.shape}\")\n",
    "print(f\"Shape of y (target): {y.shape}\")"
   ]
  },
  {
   "cell_type": "markdown",
   "id": "eb387709-c75c-4f67-9739-0d8346b88966",
   "metadata": {},
   "source": [
    "### creating a feature for scaling all features with continuous values"
   ]
  },
  {
   "cell_type": "code",
   "execution_count": 51,
   "id": "19b3d232-e34a-4699-879c-36f498df322f",
   "metadata": {},
   "outputs": [],
   "source": [
    "continuous_features = [\n",
    "    'Latitude', 'Longitude', 'Number_of_Vehicles', \n",
    "    'Speed_limit', 'Hours', 'Minute'\n",
    "]"
   ]
  },
  {
   "cell_type": "markdown",
   "id": "d20ff6e3-75dc-4cf4-a89e-9a8c4c7c92bf",
   "metadata": {},
   "source": [
    "### Model Pipeline"
   ]
  },
  {
   "cell_type": "code",
   "execution_count": 52,
   "id": "5f2541fc-0c6b-4349-a873-7a8d3b80af52",
   "metadata": {},
   "outputs": [
    {
     "name": "stdout",
     "output_type": "stream",
     "text": [
      "\n",
      "Training the Logistic Regression model...\n",
      "Model trained.\n"
     ]
    }
   ],
   "source": [
    "from sklearn.preprocessing import StandardScaler\n",
    "from sklearn.compose import ColumnTransformer\n",
    "from sklearn.linear_model import LogisticRegression\n",
    "from sklearn.pipeline import Pipeline\n",
    "from sklearn.model_selection import train_test_split\n",
    "from sklearn.metrics import accuracy_score\n",
    "\n",
    "preprocessor = ColumnTransformer(\n",
    "    transformers=[\n",
    "        ('scale', StandardScaler(), continuous_features)\n",
    "    ],\n",
    "    remainder='passthrough' #For columns not listed in continuous_features, don’t drop them and keep them as they are\n",
    ")\n",
    "\n",
    "model_pipeline = Pipeline(steps=[\n",
    "    ('preprocessor', preprocessor),\n",
    "    ('classifier', LogisticRegression(max_iter=1000))\n",
    "])\n",
    "\n",
    "\n",
    "X_train, X_test, y_train, y_test = train_test_split(X, y, test_size=0.2, random_state=42)\n",
    "\n",
    "print(\"\\nTraining the Logistic Regression model...\")\n",
    "model_pipeline.fit(X_train, y_train)\n",
    "print(\"Model trained.\")\n"
   ]
  },
  {
   "cell_type": "markdown",
   "id": "c604b49f-6523-4377-a783-fe682e929b93",
   "metadata": {},
   "source": [
    "### Evaluating"
   ]
  },
  {
   "cell_type": "code",
   "execution_count": 53,
   "id": "de98d633-cb04-4210-b7d9-86e0f64a55f0",
   "metadata": {},
   "outputs": [
    {
     "name": "stdout",
     "output_type": "stream",
     "text": [
      "\n",
      "Model Accuracy on Test Set: 0.8564\n"
     ]
    }
   ],
   "source": [
    "y_pred = model_pipeline.predict(X_test)\n",
    "accuracy = accuracy_score(y_test, y_pred)\n",
    "print(f\"\\nModel Accuracy on Test Set: {accuracy:.4f}\")"
   ]
  },
  {
   "cell_type": "code",
   "execution_count": 54,
   "id": "0872198f-3440-40fe-8a9d-52f59d113bdc",
   "metadata": {},
   "outputs": [
    {
     "name": "stdout",
     "output_type": "stream",
     "text": [
      "Class Distribution:\n",
      "Accident_Severity_Encoded\n",
      "1    0.854676\n",
      "2    0.132663\n",
      "3    0.012661\n",
      "Name: proportion, dtype: float64\n"
     ]
    }
   ],
   "source": [
    "# Check for class imbalance\n",
    "print(\"Class Distribution:\")\n",
    "print(y_train.value_counts(normalize=True))"
   ]
  },
  {
   "cell_type": "code",
   "execution_count": 56,
   "id": "4a4b9744-3944-477b-8fce-c25918dd808b",
   "metadata": {},
   "outputs": [
    {
     "name": "stdout",
     "output_type": "stream",
     "text": [
      "\n",
      "--- Classification Report ---\n",
      "              precision    recall  f1-score   support\n",
      "\n",
      "  Slight (1)       0.86      1.00      0.92     52740\n",
      " Serious (2)       0.00      0.00      0.00      8060\n",
      "   Fatal (3)       0.00      0.00      0.00       785\n",
      "\n",
      "    accuracy                           0.86     61585\n",
      "   macro avg       0.29      0.33      0.31     61585\n",
      "weighted avg       0.73      0.86      0.79     61585\n",
      "\n",
      "\n",
      "--- Confusion Matrix ---\n",
      "[[52740     0     0]\n",
      " [ 8060     0     0]\n",
      " [  785     0     0]]\n"
     ]
    }
   ],
   "source": [
    "from sklearn.metrics import classification_report, confusion_matrix\n",
    "import seaborn as sns\n",
    "import matplotlib.pyplot as plt\n",
    "\n",
    "# --- Step 7.1: Classification Report ---\n",
    "# This shows precision, recall, and f1-score for each class\n",
    "print(\"\\n--- Classification Report ---\")\n",
    "print(classification_report(y_test, y_pred, target_names=['Slight (1)', 'Serious (2)', 'Fatal (3)']))\n",
    "\n",
    "\n",
    "# --- Step 7.2: Confusion Matrix ---\n",
    "# This shows exactly what your model is misclassifying\n",
    "print(\"\\n--- Confusion Matrix ---\")\n",
    "cm = confusion_matrix(y_test, y_pred)\n",
    "print(cm)"
   ]
  },
  {
   "cell_type": "code",
   "execution_count": null,
   "id": "b2399b0f-d732-4b05-84f0-7df0c4911898",
   "metadata": {},
   "outputs": [],
   "source": []
  }
 ],
 "metadata": {
  "kernelspec": {
   "display_name": "Python 3 (ipykernel)",
   "language": "python",
   "name": "python3"
  },
  "language_info": {
   "codemirror_mode": {
    "name": "ipython",
    "version": 3
   },
   "file_extension": ".py",
   "mimetype": "text/x-python",
   "name": "python",
   "nbconvert_exporter": "python",
   "pygments_lexer": "ipython3",
   "version": "3.9.23"
  }
 },
 "nbformat": 4,
 "nbformat_minor": 5
}
